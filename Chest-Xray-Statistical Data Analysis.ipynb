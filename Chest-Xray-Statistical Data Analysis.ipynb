{
 "cells": [
  {
   "cell_type": "markdown",
   "metadata": {},
   "source": [
    "This part we can analyse how many satistical significant data do we have for analysis. \n"
   ]
  },
  {
   "cell_type": "code",
   "execution_count": 1,
   "metadata": {},
   "outputs": [],
   "source": [
    "import numpy as np\n",
    "import pandas as pd \n",
    "import os\n",
    "import shutil\n"
   ]
  },
  {
   "cell_type": "code",
   "execution_count": 2,
   "metadata": {},
   "outputs": [],
   "source": [
    "# Create directory, if directory exists remove and create one \n",
    "\n",
    "def create_directory(directory_path):\n",
    "    if os.path.exists(directory_path):\n",
    "        shutil.rmtree(directory_path) \n",
    "        os.mkdir(directory_path)\n",
    "    else:\n",
    "        os.mkdir(directory_path)"
   ]
  },
  {
   "cell_type": "code",
   "execution_count": 3,
   "metadata": {},
   "outputs": [],
   "source": [
    "#moving files from one folder to other,     \n",
    "def move_allfiles (src,dst):\n",
    "    if os.path.exists(src):\n",
    "        files = os.listdir(src) \n",
    "        for f in files:\n",
    "            shutil.copyfile(src+f,dst+f)"
   ]
  },
  {
   "cell_type": "code",
   "execution_count": 4,
   "metadata": {},
   "outputs": [],
   "source": [
    "#moving list of files from one folder to other,\n",
    "def move_listfiles (src,dst,img_list):\n",
    "    if os.path.exists(src):\n",
    "        files = img_list\n",
    "        for f in files:\n",
    "            shutil.copyfile(src+f,dst+f)"
   ]
  },
  {
   "cell_type": "code",
   "execution_count": 5,
   "metadata": {},
   "outputs": [],
   "source": [
    "#reading the data\n",
    "df=pd.read_csv(\"Data_Entry_2017.csv\") "
   ]
  },
  {
   "cell_type": "code",
   "execution_count": 6,
   "metadata": {},
   "outputs": [],
   "source": [
    "#renaming the columns names\n",
    "df.rename(columns={'Image Index':'img_index','Finding Labels':'labels','Follow-up #':'follow_up','Patient ID':'pa_id',\n",
    "                   'Patient Age':'pa_age','Patient Gender':'pa_gender','View Position':'view_position'}, inplace=True)"
   ]
  },
  {
   "cell_type": "code",
   "execution_count": 7,
   "metadata": {},
   "outputs": [
    {
     "data": {
      "text/plain": [
       "Index(['img_index', 'labels', 'follow_up', 'pa_id', 'pa_age', 'pa_gender',\n",
       "       'view_position', 'OriginalImage[Width', 'Height]',\n",
       "       'OriginalImagePixelSpacing[x', 'y]'],\n",
       "      dtype='object')"
      ]
     },
     "execution_count": 7,
     "metadata": {},
     "output_type": "execute_result"
    }
   ],
   "source": [
    "df.columns"
   ]
  },
  {
   "cell_type": "code",
   "execution_count": 9,
   "metadata": {},
   "outputs": [
    {
     "data": {
      "text/plain": [
       "['00000001_001.png', '00000001_002.png']"
      ]
     },
     "execution_count": 9,
     "metadata": {},
     "output_type": "execute_result"
    }
   ],
   "source": [
    "#convert the files in train_val_list.txt to a python list \n",
    "\n",
    "train_val_list= open('/Users/neeharikasinha/Documents/datascience-course/Capstone1/Chestxray-cardiomegaly_final/train_val_list.txt').read().split()\n",
    "train_val_list[1:3]"
   ]
  },
  {
   "cell_type": "code",
   "execution_count": 10,
   "metadata": {
    "scrolled": true
   },
   "outputs": [
    {
     "data": {
      "text/plain": [
       "86524"
      ]
     },
     "execution_count": 10,
     "metadata": {},
     "output_type": "execute_result"
    }
   ],
   "source": [
    "len(train_val_list)"
   ]
  },
  {
   "cell_type": "code",
   "execution_count": 12,
   "metadata": {},
   "outputs": [],
   "source": [
    "#Selecting the images under train_val_list from Data_Entry_2017.csv file\n",
    "\n",
    "df_train_img = df[df.img_index.isin(train_val_list)]"
   ]
  },
  {
   "cell_type": "code",
   "execution_count": 75,
   "metadata": {
    "scrolled": false
   },
   "outputs": [
    {
     "data": {
      "text/html": [
       "<div>\n",
       "<style scoped>\n",
       "    .dataframe tbody tr th:only-of-type {\n",
       "        vertical-align: middle;\n",
       "    }\n",
       "\n",
       "    .dataframe tbody tr th {\n",
       "        vertical-align: top;\n",
       "    }\n",
       "\n",
       "    .dataframe thead th {\n",
       "        text-align: right;\n",
       "    }\n",
       "</style>\n",
       "<table border=\"1\" class=\"dataframe\">\n",
       "  <thead>\n",
       "    <tr style=\"text-align: right;\">\n",
       "      <th></th>\n",
       "      <th>img_index</th>\n",
       "      <th>labels</th>\n",
       "      <th>follow_up</th>\n",
       "      <th>pa_id</th>\n",
       "      <th>pa_age</th>\n",
       "      <th>pa_gender</th>\n",
       "      <th>view_position</th>\n",
       "      <th>OriginalImage[Width</th>\n",
       "      <th>Height]</th>\n",
       "      <th>OriginalImagePixelSpacing[x</th>\n",
       "      <th>y]</th>\n",
       "      <th>marker</th>\n",
       "    </tr>\n",
       "  </thead>\n",
       "  <tbody>\n",
       "    <tr>\n",
       "      <th>0</th>\n",
       "      <td>00000001_000.png</td>\n",
       "      <td>Cardiomegaly</td>\n",
       "      <td>0</td>\n",
       "      <td>1</td>\n",
       "      <td>58</td>\n",
       "      <td>M</td>\n",
       "      <td>PA</td>\n",
       "      <td>2682</td>\n",
       "      <td>2749</td>\n",
       "      <td>0.143</td>\n",
       "      <td>0.143</td>\n",
       "      <td>2</td>\n",
       "    </tr>\n",
       "    <tr>\n",
       "      <th>1</th>\n",
       "      <td>00000001_001.png</td>\n",
       "      <td>Cardiomegaly|Emphysema</td>\n",
       "      <td>1</td>\n",
       "      <td>1</td>\n",
       "      <td>58</td>\n",
       "      <td>M</td>\n",
       "      <td>PA</td>\n",
       "      <td>2894</td>\n",
       "      <td>2729</td>\n",
       "      <td>0.143</td>\n",
       "      <td>0.143</td>\n",
       "      <td>2</td>\n",
       "    </tr>\n",
       "    <tr>\n",
       "      <th>2</th>\n",
       "      <td>00000001_002.png</td>\n",
       "      <td>Cardiomegaly|Effusion</td>\n",
       "      <td>2</td>\n",
       "      <td>1</td>\n",
       "      <td>58</td>\n",
       "      <td>M</td>\n",
       "      <td>PA</td>\n",
       "      <td>2500</td>\n",
       "      <td>2048</td>\n",
       "      <td>0.168</td>\n",
       "      <td>0.168</td>\n",
       "      <td>2</td>\n",
       "    </tr>\n",
       "    <tr>\n",
       "      <th>3</th>\n",
       "      <td>00000002_000.png</td>\n",
       "      <td>No Finding</td>\n",
       "      <td>0</td>\n",
       "      <td>2</td>\n",
       "      <td>81</td>\n",
       "      <td>M</td>\n",
       "      <td>PA</td>\n",
       "      <td>2500</td>\n",
       "      <td>2048</td>\n",
       "      <td>0.171</td>\n",
       "      <td>0.171</td>\n",
       "      <td>1</td>\n",
       "    </tr>\n",
       "    <tr>\n",
       "      <th>12</th>\n",
       "      <td>00000004_000.png</td>\n",
       "      <td>Mass|Nodule</td>\n",
       "      <td>0</td>\n",
       "      <td>4</td>\n",
       "      <td>82</td>\n",
       "      <td>M</td>\n",
       "      <td>AP</td>\n",
       "      <td>2500</td>\n",
       "      <td>2048</td>\n",
       "      <td>0.168</td>\n",
       "      <td>0.168</td>\n",
       "      <td>NaN</td>\n",
       "    </tr>\n",
       "  </tbody>\n",
       "</table>\n",
       "</div>"
      ],
      "text/plain": [
       "           img_index                  labels  follow_up  pa_id  pa_age  \\\n",
       "0   00000001_000.png            Cardiomegaly          0      1      58   \n",
       "1   00000001_001.png  Cardiomegaly|Emphysema          1      1      58   \n",
       "2   00000001_002.png   Cardiomegaly|Effusion          2      1      58   \n",
       "3   00000002_000.png              No Finding          0      2      81   \n",
       "12  00000004_000.png             Mass|Nodule          0      4      82   \n",
       "\n",
       "   pa_gender view_position  OriginalImage[Width  Height]  \\\n",
       "0          M            PA                 2682     2749   \n",
       "1          M            PA                 2894     2729   \n",
       "2          M            PA                 2500     2048   \n",
       "3          M            PA                 2500     2048   \n",
       "12         M            AP                 2500     2048   \n",
       "\n",
       "    OriginalImagePixelSpacing[x     y] marker  \n",
       "0                         0.143  0.143      2  \n",
       "1                         0.143  0.143      2  \n",
       "2                         0.168  0.168      2  \n",
       "3                         0.171  0.171      1  \n",
       "12                        0.168  0.168    NaN  "
      ]
     },
     "execution_count": 75,
     "metadata": {},
     "output_type": "execute_result"
    }
   ],
   "source": [
    "df_train_img.head()\n",
    "#following are the images to be trained"
   ]
  },
  {
   "cell_type": "code",
   "execution_count": 100,
   "metadata": {
    "scrolled": false
   },
   "outputs": [
    {
     "name": "stdout",
     "output_type": "stream",
     "text": [
      "['Cardiomegaly' 'Cardiomegaly|Emphysema' 'Cardiomegaly|Effusion'\n",
      " 'No Finding' 'Mass|Nodule' 'Infiltration' 'Effusion|Infiltration'\n",
      " 'Nodule' 'Emphysema' 'Effusion']\n"
     ]
    }
   ],
   "source": [
    "#checking images with various labels\n",
    "print(df_train_img['labels'].unique()[0:10])"
   ]
  },
  {
   "cell_type": "code",
   "execution_count": 77,
   "metadata": {},
   "outputs": [
    {
     "data": {
      "text/plain": [
       "False"
      ]
     },
     "execution_count": 77,
     "metadata": {},
     "output_type": "execute_result"
    }
   ],
   "source": [
    "df_train_img['labels'].empty "
   ]
  },
  {
   "cell_type": "markdown",
   "metadata": {},
   "source": [
    "Its good that there are no empty data points.\n",
    "Looking at the unique labels we can say that Cardiomegaly is not found to be a unique deceases proven in a Chest Xray.It is accompanied with other deceases. \n",
    "\n",
    "We will now select those images which has been marked as \"train_val\" set from the train_val_list.txt file provide in the data. Will then identify few images as have alook how a normal or cardiomegaly images look like. Although it doesnt have any sigificance on the training process.\n"
   ]
  },
  {
   "cell_type": "code",
   "execution_count": 90,
   "metadata": {},
   "outputs": [
    {
     "name": "stderr",
     "output_type": "stream",
     "text": [
      "/Users/neeharikasinha/opt/anaconda3/lib/python3.7/site-packages/pandas/core/indexing.py:965: SettingWithCopyWarning: \n",
      "A value is trying to be set on a copy of a slice from a DataFrame.\n",
      "Try using .loc[row_indexer,col_indexer] = value instead\n",
      "\n",
      "See the caveats in the documentation: https://pandas.pydata.org/pandas-docs/stable/user_guide/indexing.html#returning-a-view-versus-a-copy\n",
      "  self.obj[item] = s\n"
     ]
    }
   ],
   "source": [
    "\n",
    "#assign 1 for 'No Finding' and 2 for 'Cardiomegaly'\n",
    "df_train_img.loc[df_train_img.labels.str.contains('No Finding'), 'marker'] = '1'\n",
    "\n",
    "df_train_img.loc[df_train_img.labels.str.contains('Cardiomegaly'), 'marker'] = '2'\n"
   ]
  },
  {
   "cell_type": "code",
   "execution_count": 101,
   "metadata": {
    "scrolled": true
   },
   "outputs": [
    {
     "data": {
      "text/html": [
       "<div>\n",
       "<style scoped>\n",
       "    .dataframe tbody tr th:only-of-type {\n",
       "        vertical-align: middle;\n",
       "    }\n",
       "\n",
       "    .dataframe tbody tr th {\n",
       "        vertical-align: top;\n",
       "    }\n",
       "\n",
       "    .dataframe thead th {\n",
       "        text-align: right;\n",
       "    }\n",
       "</style>\n",
       "<table border=\"1\" class=\"dataframe\">\n",
       "  <thead>\n",
       "    <tr style=\"text-align: right;\">\n",
       "      <th></th>\n",
       "      <th>img_index</th>\n",
       "      <th>labels</th>\n",
       "      <th>follow_up</th>\n",
       "      <th>pa_id</th>\n",
       "      <th>pa_age</th>\n",
       "      <th>pa_gender</th>\n",
       "      <th>view_position</th>\n",
       "      <th>OriginalImage[Width</th>\n",
       "      <th>Height]</th>\n",
       "      <th>OriginalImagePixelSpacing[x</th>\n",
       "      <th>y]</th>\n",
       "      <th>marker</th>\n",
       "    </tr>\n",
       "  </thead>\n",
       "  <tbody>\n",
       "    <tr>\n",
       "      <th>0</th>\n",
       "      <td>00000001_000.png</td>\n",
       "      <td>Cardiomegaly</td>\n",
       "      <td>0</td>\n",
       "      <td>1</td>\n",
       "      <td>58</td>\n",
       "      <td>M</td>\n",
       "      <td>PA</td>\n",
       "      <td>2682</td>\n",
       "      <td>2749</td>\n",
       "      <td>0.143</td>\n",
       "      <td>0.143</td>\n",
       "      <td>2</td>\n",
       "    </tr>\n",
       "    <tr>\n",
       "      <th>1</th>\n",
       "      <td>00000001_001.png</td>\n",
       "      <td>Cardiomegaly|Emphysema</td>\n",
       "      <td>1</td>\n",
       "      <td>1</td>\n",
       "      <td>58</td>\n",
       "      <td>M</td>\n",
       "      <td>PA</td>\n",
       "      <td>2894</td>\n",
       "      <td>2729</td>\n",
       "      <td>0.143</td>\n",
       "      <td>0.143</td>\n",
       "      <td>2</td>\n",
       "    </tr>\n",
       "    <tr>\n",
       "      <th>2</th>\n",
       "      <td>00000001_002.png</td>\n",
       "      <td>Cardiomegaly|Effusion</td>\n",
       "      <td>2</td>\n",
       "      <td>1</td>\n",
       "      <td>58</td>\n",
       "      <td>M</td>\n",
       "      <td>PA</td>\n",
       "      <td>2500</td>\n",
       "      <td>2048</td>\n",
       "      <td>0.168</td>\n",
       "      <td>0.168</td>\n",
       "      <td>2</td>\n",
       "    </tr>\n",
       "  </tbody>\n",
       "</table>\n",
       "</div>"
      ],
      "text/plain": [
       "          img_index                  labels  follow_up  pa_id  pa_age  \\\n",
       "0  00000001_000.png            Cardiomegaly          0      1      58   \n",
       "1  00000001_001.png  Cardiomegaly|Emphysema          1      1      58   \n",
       "2  00000001_002.png   Cardiomegaly|Effusion          2      1      58   \n",
       "\n",
       "  pa_gender view_position  OriginalImage[Width  Height]  \\\n",
       "0         M            PA                 2682     2749   \n",
       "1         M            PA                 2894     2729   \n",
       "2         M            PA                 2500     2048   \n",
       "\n",
       "   OriginalImagePixelSpacing[x     y] marker  \n",
       "0                        0.143  0.143      2  \n",
       "1                        0.143  0.143      2  \n",
       "2                        0.168  0.168      2  "
      ]
     },
     "execution_count": 101,
     "metadata": {},
     "output_type": "execute_result"
    }
   ],
   "source": [
    "df_train_img.head(3)"
   ]
  },
  {
   "cell_type": "code",
   "execution_count": 92,
   "metadata": {
    "scrolled": false
   },
   "outputs": [
    {
     "data": {
      "text/html": [
       "<div>\n",
       "<style scoped>\n",
       "    .dataframe tbody tr th:only-of-type {\n",
       "        vertical-align: middle;\n",
       "    }\n",
       "\n",
       "    .dataframe tbody tr th {\n",
       "        vertical-align: top;\n",
       "    }\n",
       "\n",
       "    .dataframe thead th {\n",
       "        text-align: right;\n",
       "    }\n",
       "</style>\n",
       "<table border=\"1\" class=\"dataframe\">\n",
       "  <thead>\n",
       "    <tr style=\"text-align: right;\">\n",
       "      <th></th>\n",
       "      <th>follow_up</th>\n",
       "      <th>pa_id</th>\n",
       "      <th>pa_age</th>\n",
       "      <th>OriginalImage[Width</th>\n",
       "      <th>Height]</th>\n",
       "      <th>OriginalImagePixelSpacing[x</th>\n",
       "      <th>y]</th>\n",
       "    </tr>\n",
       "  </thead>\n",
       "  <tbody>\n",
       "    <tr>\n",
       "      <th>count</th>\n",
       "      <td>86524.000000</td>\n",
       "      <td>86524.000000</td>\n",
       "      <td>86524.000000</td>\n",
       "      <td>86524.000000</td>\n",
       "      <td>86524.000000</td>\n",
       "      <td>86524.000000</td>\n",
       "      <td>86524.000000</td>\n",
       "    </tr>\n",
       "    <tr>\n",
       "      <th>mean</th>\n",
       "      <td>5.096621</td>\n",
       "      <td>13795.359415</td>\n",
       "      <td>46.870071</td>\n",
       "      <td>2641.784129</td>\n",
       "      <td>2505.106121</td>\n",
       "      <td>0.155384</td>\n",
       "      <td>0.155384</td>\n",
       "    </tr>\n",
       "    <tr>\n",
       "      <th>std</th>\n",
       "      <td>8.656941</td>\n",
       "      <td>8261.548258</td>\n",
       "      <td>16.835434</td>\n",
       "      <td>337.139196</td>\n",
       "      <td>403.957467</td>\n",
       "      <td>0.015615</td>\n",
       "      <td>0.015615</td>\n",
       "    </tr>\n",
       "    <tr>\n",
       "      <th>min</th>\n",
       "      <td>0.000000</td>\n",
       "      <td>1.000000</td>\n",
       "      <td>1.000000</td>\n",
       "      <td>1143.000000</td>\n",
       "      <td>966.000000</td>\n",
       "      <td>0.115000</td>\n",
       "      <td>0.115000</td>\n",
       "    </tr>\n",
       "    <tr>\n",
       "      <th>25%</th>\n",
       "      <td>0.000000</td>\n",
       "      <td>6773.750000</td>\n",
       "      <td>35.000000</td>\n",
       "      <td>2500.000000</td>\n",
       "      <td>2048.000000</td>\n",
       "      <td>0.143000</td>\n",
       "      <td>0.143000</td>\n",
       "    </tr>\n",
       "    <tr>\n",
       "      <th>50%</th>\n",
       "      <td>2.000000</td>\n",
       "      <td>13352.500000</td>\n",
       "      <td>49.000000</td>\n",
       "      <td>2520.000000</td>\n",
       "      <td>2544.000000</td>\n",
       "      <td>0.143000</td>\n",
       "      <td>0.143000</td>\n",
       "    </tr>\n",
       "    <tr>\n",
       "      <th>75%</th>\n",
       "      <td>6.000000</td>\n",
       "      <td>20185.000000</td>\n",
       "      <td>59.000000</td>\n",
       "      <td>2992.000000</td>\n",
       "      <td>2991.000000</td>\n",
       "      <td>0.168000</td>\n",
       "      <td>0.168000</td>\n",
       "    </tr>\n",
       "    <tr>\n",
       "      <th>max</th>\n",
       "      <td>108.000000</td>\n",
       "      <td>30801.000000</td>\n",
       "      <td>413.000000</td>\n",
       "      <td>3550.000000</td>\n",
       "      <td>3166.000000</td>\n",
       "      <td>0.198800</td>\n",
       "      <td>0.198800</td>\n",
       "    </tr>\n",
       "  </tbody>\n",
       "</table>\n",
       "</div>"
      ],
      "text/plain": [
       "          follow_up         pa_id        pa_age  OriginalImage[Width  \\\n",
       "count  86524.000000  86524.000000  86524.000000         86524.000000   \n",
       "mean       5.096621  13795.359415     46.870071          2641.784129   \n",
       "std        8.656941   8261.548258     16.835434           337.139196   \n",
       "min        0.000000      1.000000      1.000000          1143.000000   \n",
       "25%        0.000000   6773.750000     35.000000          2500.000000   \n",
       "50%        2.000000  13352.500000     49.000000          2520.000000   \n",
       "75%        6.000000  20185.000000     59.000000          2992.000000   \n",
       "max      108.000000  30801.000000    413.000000          3550.000000   \n",
       "\n",
       "            Height]  OriginalImagePixelSpacing[x            y]  \n",
       "count  86524.000000                 86524.000000  86524.000000  \n",
       "mean    2505.106121                     0.155384      0.155384  \n",
       "std      403.957467                     0.015615      0.015615  \n",
       "min      966.000000                     0.115000      0.115000  \n",
       "25%     2048.000000                     0.143000      0.143000  \n",
       "50%     2544.000000                     0.143000      0.143000  \n",
       "75%     2991.000000                     0.168000      0.168000  \n",
       "max     3166.000000                     0.198800      0.198800  "
      ]
     },
     "execution_count": 92,
     "metadata": {},
     "output_type": "execute_result"
    }
   ],
   "source": [
    "df_train_img.describe()"
   ]
  },
  {
   "cell_type": "markdown",
   "metadata": {},
   "source": [
    "No Findings are realted to those images where the patient is checking after the treatment as we can see that we have various Xray images with the same patient id"
   ]
  },
  {
   "cell_type": "code",
   "execution_count": 94,
   "metadata": {
    "scrolled": false
   },
   "outputs": [
    {
     "data": {
      "image/png": "[encoded data removed]",
      "text/plain": [
       "<Figure size 432x288 with 1 Axes>"
      ]
     },
     "metadata": {
      "needs_background": "light"
     },
     "output_type": "display_data"
    }
   ],
   "source": [
    "import matplotlib.pyplot as plt\n",
    "repeat_id=df_train_img.groupby('pa_id').size()\n",
    "plt.hist(repeat_id, bins=np.arange(repeat_id.min(), repeat_id.max()+1))\n",
    " \n",
    "plt.xlabel('Number of times id visits')\n",
    "plt.ylabel('Frequency of accurance')\n",
    "plt.xlim(0,30)\n",
    "plt.show()"
   ]
  },
  {
   "cell_type": "markdown",
   "metadata": {},
   "source": [
    "The result show that the frequency of visits or the followup is mostly 5. There are some long lasting visits too with maximum of 27"
   ]
  },
  {
   "cell_type": "code",
   "execution_count": 95,
   "metadata": {},
   "outputs": [],
   "source": [
    "df_normal=df_train_img[df_train_img['marker'] == '1']"
   ]
  },
  {
   "cell_type": "code",
   "execution_count": 84,
   "metadata": {},
   "outputs": [],
   "source": [
    "df_cardiomegaly=df_train_img[df_train_img['marker'] == '2']"
   ]
  },
  {
   "cell_type": "code",
   "execution_count": 85,
   "metadata": {
    "scrolled": true
   },
   "outputs": [
    {
     "data": {
      "text/html": [
       "<div>\n",
       "<style scoped>\n",
       "    .dataframe tbody tr th:only-of-type {\n",
       "        vertical-align: middle;\n",
       "    }\n",
       "\n",
       "    .dataframe tbody tr th {\n",
       "        vertical-align: top;\n",
       "    }\n",
       "\n",
       "    .dataframe thead th {\n",
       "        text-align: right;\n",
       "    }\n",
       "</style>\n",
       "<table border=\"1\" class=\"dataframe\">\n",
       "  <thead>\n",
       "    <tr style=\"text-align: right;\">\n",
       "      <th></th>\n",
       "      <th>img_index</th>\n",
       "      <th>labels</th>\n",
       "      <th>follow_up</th>\n",
       "      <th>pa_id</th>\n",
       "      <th>pa_age</th>\n",
       "      <th>pa_gender</th>\n",
       "      <th>view_position</th>\n",
       "      <th>OriginalImage[Width</th>\n",
       "      <th>Height]</th>\n",
       "      <th>OriginalImagePixelSpacing[x</th>\n",
       "      <th>y]</th>\n",
       "      <th>marker</th>\n",
       "    </tr>\n",
       "  </thead>\n",
       "  <tbody>\n",
       "    <tr>\n",
       "      <th>3</th>\n",
       "      <td>00000002_000.png</td>\n",
       "      <td>No Finding</td>\n",
       "      <td>0</td>\n",
       "      <td>2</td>\n",
       "      <td>81</td>\n",
       "      <td>M</td>\n",
       "      <td>PA</td>\n",
       "      <td>2500</td>\n",
       "      <td>2048</td>\n",
       "      <td>0.171</td>\n",
       "      <td>0.171</td>\n",
       "      <td>1</td>\n",
       "    </tr>\n",
       "    <tr>\n",
       "      <th>13</th>\n",
       "      <td>00000005_000.png</td>\n",
       "      <td>No Finding</td>\n",
       "      <td>0</td>\n",
       "      <td>5</td>\n",
       "      <td>69</td>\n",
       "      <td>F</td>\n",
       "      <td>PA</td>\n",
       "      <td>2048</td>\n",
       "      <td>2500</td>\n",
       "      <td>0.168</td>\n",
       "      <td>0.168</td>\n",
       "      <td>1</td>\n",
       "    </tr>\n",
       "    <tr>\n",
       "      <th>14</th>\n",
       "      <td>00000005_001.png</td>\n",
       "      <td>No Finding</td>\n",
       "      <td>1</td>\n",
       "      <td>5</td>\n",
       "      <td>69</td>\n",
       "      <td>F</td>\n",
       "      <td>AP</td>\n",
       "      <td>2500</td>\n",
       "      <td>2048</td>\n",
       "      <td>0.168</td>\n",
       "      <td>0.168</td>\n",
       "      <td>1</td>\n",
       "    </tr>\n",
       "    <tr>\n",
       "      <th>15</th>\n",
       "      <td>00000005_002.png</td>\n",
       "      <td>No Finding</td>\n",
       "      <td>2</td>\n",
       "      <td>5</td>\n",
       "      <td>69</td>\n",
       "      <td>F</td>\n",
       "      <td>AP</td>\n",
       "      <td>2500</td>\n",
       "      <td>2048</td>\n",
       "      <td>0.168</td>\n",
       "      <td>0.168</td>\n",
       "      <td>1</td>\n",
       "    </tr>\n",
       "    <tr>\n",
       "      <th>16</th>\n",
       "      <td>00000005_003.png</td>\n",
       "      <td>No Finding</td>\n",
       "      <td>3</td>\n",
       "      <td>5</td>\n",
       "      <td>69</td>\n",
       "      <td>F</td>\n",
       "      <td>PA</td>\n",
       "      <td>2992</td>\n",
       "      <td>2991</td>\n",
       "      <td>0.143</td>\n",
       "      <td>0.143</td>\n",
       "      <td>1</td>\n",
       "    </tr>\n",
       "  </tbody>\n",
       "</table>\n",
       "</div>"
      ],
      "text/plain": [
       "           img_index      labels  follow_up  pa_id  pa_age pa_gender  \\\n",
       "3   00000002_000.png  No Finding          0      2      81         M   \n",
       "13  00000005_000.png  No Finding          0      5      69         F   \n",
       "14  00000005_001.png  No Finding          1      5      69         F   \n",
       "15  00000005_002.png  No Finding          2      5      69         F   \n",
       "16  00000005_003.png  No Finding          3      5      69         F   \n",
       "\n",
       "   view_position  OriginalImage[Width  Height]  OriginalImagePixelSpacing[x  \\\n",
       "3             PA                 2500     2048                        0.171   \n",
       "13            PA                 2048     2500                        0.168   \n",
       "14            AP                 2500     2048                        0.168   \n",
       "15            AP                 2500     2048                        0.168   \n",
       "16            PA                 2992     2991                        0.143   \n",
       "\n",
       "       y] marker  \n",
       "3   0.171      1  \n",
       "13  0.168      1  \n",
       "14  0.168      1  \n",
       "15  0.168      1  \n",
       "16  0.143      1  "
      ]
     },
     "execution_count": 85,
     "metadata": {},
     "output_type": "execute_result"
    }
   ],
   "source": [
    "df_normal.head()"
   ]
  },
  {
   "cell_type": "code",
   "execution_count": 86,
   "metadata": {
    "scrolled": true
   },
   "outputs": [
    {
     "data": {
      "text/html": [
       "<div>\n",
       "<style scoped>\n",
       "    .dataframe tbody tr th:only-of-type {\n",
       "        vertical-align: middle;\n",
       "    }\n",
       "\n",
       "    .dataframe tbody tr th {\n",
       "        vertical-align: top;\n",
       "    }\n",
       "\n",
       "    .dataframe thead th {\n",
       "        text-align: right;\n",
       "    }\n",
       "</style>\n",
       "<table border=\"1\" class=\"dataframe\">\n",
       "  <thead>\n",
       "    <tr style=\"text-align: right;\">\n",
       "      <th></th>\n",
       "      <th>img_index</th>\n",
       "      <th>labels</th>\n",
       "      <th>follow_up</th>\n",
       "      <th>pa_id</th>\n",
       "      <th>pa_age</th>\n",
       "      <th>pa_gender</th>\n",
       "      <th>view_position</th>\n",
       "      <th>OriginalImage[Width</th>\n",
       "      <th>Height]</th>\n",
       "      <th>OriginalImagePixelSpacing[x</th>\n",
       "      <th>y]</th>\n",
       "      <th>marker</th>\n",
       "    </tr>\n",
       "  </thead>\n",
       "  <tbody>\n",
       "    <tr>\n",
       "      <th>0</th>\n",
       "      <td>00000001_000.png</td>\n",
       "      <td>Cardiomegaly</td>\n",
       "      <td>0</td>\n",
       "      <td>1</td>\n",
       "      <td>58</td>\n",
       "      <td>M</td>\n",
       "      <td>PA</td>\n",
       "      <td>2682</td>\n",
       "      <td>2749</td>\n",
       "      <td>0.143</td>\n",
       "      <td>0.143</td>\n",
       "      <td>2</td>\n",
       "    </tr>\n",
       "    <tr>\n",
       "      <th>1</th>\n",
       "      <td>00000001_001.png</td>\n",
       "      <td>Cardiomegaly|Emphysema</td>\n",
       "      <td>1</td>\n",
       "      <td>1</td>\n",
       "      <td>58</td>\n",
       "      <td>M</td>\n",
       "      <td>PA</td>\n",
       "      <td>2894</td>\n",
       "      <td>2729</td>\n",
       "      <td>0.143</td>\n",
       "      <td>0.143</td>\n",
       "      <td>2</td>\n",
       "    </tr>\n",
       "    <tr>\n",
       "      <th>2</th>\n",
       "      <td>00000001_002.png</td>\n",
       "      <td>Cardiomegaly|Effusion</td>\n",
       "      <td>2</td>\n",
       "      <td>1</td>\n",
       "      <td>58</td>\n",
       "      <td>M</td>\n",
       "      <td>PA</td>\n",
       "      <td>2500</td>\n",
       "      <td>2048</td>\n",
       "      <td>0.168</td>\n",
       "      <td>0.168</td>\n",
       "      <td>2</td>\n",
       "    </tr>\n",
       "    <tr>\n",
       "      <th>23</th>\n",
       "      <td>00000008_000.png</td>\n",
       "      <td>Cardiomegaly</td>\n",
       "      <td>0</td>\n",
       "      <td>8</td>\n",
       "      <td>69</td>\n",
       "      <td>F</td>\n",
       "      <td>PA</td>\n",
       "      <td>2048</td>\n",
       "      <td>2500</td>\n",
       "      <td>0.171</td>\n",
       "      <td>0.171</td>\n",
       "      <td>2</td>\n",
       "    </tr>\n",
       "    <tr>\n",
       "      <th>175</th>\n",
       "      <td>00000033_000.png</td>\n",
       "      <td>Atelectasis|Cardiomegaly|Fibrosis</td>\n",
       "      <td>0</td>\n",
       "      <td>33</td>\n",
       "      <td>72</td>\n",
       "      <td>F</td>\n",
       "      <td>PA</td>\n",
       "      <td>2992</td>\n",
       "      <td>2745</td>\n",
       "      <td>0.143</td>\n",
       "      <td>0.143</td>\n",
       "      <td>2</td>\n",
       "    </tr>\n",
       "  </tbody>\n",
       "</table>\n",
       "</div>"
      ],
      "text/plain": [
       "            img_index                             labels  follow_up  pa_id  \\\n",
       "0    00000001_000.png                       Cardiomegaly          0      1   \n",
       "1    00000001_001.png             Cardiomegaly|Emphysema          1      1   \n",
       "2    00000001_002.png              Cardiomegaly|Effusion          2      1   \n",
       "23   00000008_000.png                       Cardiomegaly          0      8   \n",
       "175  00000033_000.png  Atelectasis|Cardiomegaly|Fibrosis          0     33   \n",
       "\n",
       "     pa_age pa_gender view_position  OriginalImage[Width  Height]  \\\n",
       "0        58         M            PA                 2682     2749   \n",
       "1        58         M            PA                 2894     2729   \n",
       "2        58         M            PA                 2500     2048   \n",
       "23       69         F            PA                 2048     2500   \n",
       "175      72         F            PA                 2992     2745   \n",
       "\n",
       "     OriginalImagePixelSpacing[x     y] marker  \n",
       "0                          0.143  0.143      2  \n",
       "1                          0.143  0.143      2  \n",
       "2                          0.168  0.168      2  \n",
       "23                         0.171  0.171      2  \n",
       "175                        0.143  0.143      2  "
      ]
     },
     "execution_count": 86,
     "metadata": {},
     "output_type": "execute_result"
    }
   ],
   "source": [
    "df_cardiomegaly.head()"
   ]
  },
  {
   "cell_type": "code",
   "execution_count": 87,
   "metadata": {},
   "outputs": [
    {
     "name": "stdout",
     "output_type": "stream",
     "text": [
      "Number of images which do not come under normal or cardiomegaly: 34317\n"
     ]
    }
   ],
   "source": [
    "#number of images which do not come under normal or cardiomegaly\n",
    "print('Number of images which do not come under normal or cardiomegaly:',len(df_train_img)-(len(df_normal)+len(df_cardiomegaly)))"
   ]
  },
  {
   "cell_type": "code",
   "execution_count": 88,
   "metadata": {
    "scrolled": true
   },
   "outputs": [
    {
     "name": "stdout",
     "output_type": "stream",
     "text": [
      "Number of raw images being analysed: 52207\n"
     ]
    }
   ],
   "source": [
    "#number of raw images having deceases\n",
    "print('Number of raw images being analysed:',len(df_normal)+len(df_cardiomegaly))"
   ]
  },
  {
   "cell_type": "code",
   "execution_count": 102,
   "metadata": {},
   "outputs": [
    {
     "name": "stdout",
     "output_type": "stream",
     "text": [
      "Total number of images in train data: 86524\n"
     ]
    }
   ],
   "source": [
    "#Total number of images under training data set \n",
    "print('Total number of images in train data:', len(train_val_list))"
   ]
  },
  {
   "cell_type": "code",
   "execution_count": 103,
   "metadata": {},
   "outputs": [
    {
     "name": "stdout",
     "output_type": "stream",
     "text": [
      "Fraction of normal images: 58.365309047200775\n"
     ]
    }
   ],
   "source": [
    "#Fraction of data in normal category\n",
    "print(\"Fraction of normal images:\",(len(df_normal)/len(train_val_list))*100)"
   ]
  },
  {
   "cell_type": "code",
   "execution_count": 104,
   "metadata": {
    "scrolled": true
   },
   "outputs": [
    {
     "name": "stdout",
     "output_type": "stream",
     "text": [
      "Fraction of normal images: 1.9728630206647866\n"
     ]
    }
   ],
   "source": [
    "#Fraction of data in cardiomegaly category\n",
    "print(\"Fraction of normal images:\",(len(df_cardiomegaly)/len(train_val_list))*100)"
   ]
  },
  {
   "cell_type": "code",
   "execution_count": null,
   "metadata": {},
   "outputs": [],
   "source": []
  }
 ],
 "metadata": {
  "kernelspec": {
   "display_name": "Python 3",
   "language": "python",
   "name": "python3"
  },
  "language_info": {
   "codemirror_mode": {
    "name": "ipython",
    "version": 3
   },
   "file_extension": ".py",
   "mimetype": "text/x-python",
   "name": "python",
   "nbconvert_exporter": "python",
   "pygments_lexer": "ipython3",
   "version": "3.7.6"
  }
 },
 "nbformat": 4,
 "nbformat_minor": 4
}
